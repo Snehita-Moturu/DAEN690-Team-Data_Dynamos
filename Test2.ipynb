{
 "cells": [
  {
   "cell_type": "code",
   "execution_count": 17,
   "metadata": {},
   "outputs": [],
   "source": [
    "import requests"
   ]
  },
  {
   "cell_type": "code",
   "execution_count": 18,
   "metadata": {},
   "outputs": [],
   "source": [
    "import json"
   ]
  },
  {
   "cell_type": "code",
   "execution_count": null,
   "metadata": {},
   "outputs": [],
   "source": [
    "import pymongo"
   ]
  },
  {
   "cell_type": "code",
   "execution_count": 19,
   "metadata": {},
   "outputs": [
    {
     "ename": "ModuleNotFoundError",
     "evalue": "No module named 'pymongo'",
     "output_type": "error",
     "traceback": [
      "\u001b[1;31m---------------------------------------------------------------------------\u001b[0m",
      "\u001b[1;31mModuleNotFoundError\u001b[0m                       Traceback (most recent call last)",
      "Cell \u001b[1;32mIn[19], line 1\u001b[0m\n\u001b[1;32m----> 1\u001b[0m \u001b[38;5;28;01mfrom\u001b[39;00m \u001b[38;5;21;01mpymongo\u001b[39;00m \u001b[38;5;28;01mimport\u001b[39;00m MongoClient\n",
      "\u001b[1;31mModuleNotFoundError\u001b[0m: No module named 'pymongo'"
     ]
    }
   ],
   "source": [
    "from pymongo import MongoClient"
   ]
  },
  {
   "cell_type": "code",
   "execution_count": null,
   "metadata": {},
   "outputs": [],
   "source": [
    "# The URL you want to send the POST request to\n",
    "url = 'https://mlaas.precise-lab.com/supplement'"
   ]
  },
  {
   "cell_type": "code",
   "execution_count": null,
   "metadata": {},
   "outputs": [],
   "source": [
    "# The path to the image file you want to send\n",
    "image_file_path = 'C:/Users/roope/Documents/Capstone Project- Product Label Recognition/label2.jpg'   # Replace with the actual path to your image file"
   ]
  },
  {
   "cell_type": "code",
   "execution_count": null,
   "metadata": {},
   "outputs": [],
   "source": [
    "# Open and save the image using Pillow to ensure it's in the correct format\n",
    "image = Image.open(image_file_path)\n",
    "image.save('C:/Users/roope/Documents/Capstone Project- Product Label Recognition/converted_label2.jpg' )  # Save the image in JPEG format"
   ]
  },
  {
   "cell_type": "code",
   "execution_count": null,
   "metadata": {},
   "outputs": [],
   "source": [
    "# Convert the image to PDF\n",
    "pdf_file_path = 'C:/Users/roope/Documents/Capstone Project- Product Label Recognition/convertedlabel2.pdf'   # Path where the PDF file will be saved\n",
    "pdf = FPDF()\n",
    "pdf.add_page()\n",
    "pdf.image('C:/Users/roope/Documents/Capstone Project- Product Label Recognition/converted_label2.jpg' , x=10, y=10, w=190)\n",
    "pdf.output(pdf_file_path, \"F\")"
   ]
  },
  {
   "cell_type": "code",
   "execution_count": null,
   "metadata": {},
   "outputs": [],
   "source": [
    "# Open the PDF file in binary mode\n",
    "with open(pdf_file_path, 'rb') as pdf_file:\n",
    "    # Define the files parameter as a dictionary\n",
    "    # The key is the name of the form field for file upload (e.g., 'file')\n",
    "    # The value is a tuple consisting of:\n",
    "    # - The filename (or you can set it as None)\n",
    "    # - The file object\n",
    "    files = {'file': (pdf_file_path.split('/')[-1], pdf_file)}\n",
    "\n",
    "    # Send the POST request with the PDF file\n",
    "    response = requests.post(url, files=files, verify=False)"
   ]
  },
  {
   "cell_type": "code",
   "execution_count": null,
   "metadata": {},
   "outputs": [],
   "source": [
    "# Check if the request was successful\n",
    "if response.status_code == 200:\n",
    "    print(\"File uploaded successfully\")\n",
    "    # Process the response\n",
    "    json_data = response.json()\n",
    "    print(json_data)\n",
    "    \n",
    "    # Store JSON data in MongoDB\n",
    "    client = MongoClient('localhost', 27017)\n",
    "    db = client['Precise']  # Replace 'your_database' with the name of your MongoDB database\n",
    "    collection = db['ProductLabels']  # Replace 'your_collection' with the name of your MongoDB collection\n",
    "    collection.insert_one(json_data)\n",
    "    print(\"JSON data stored in MongoDB\")\n",
    "else:\n",
    "    print(\"Failed to upload the file\")\n",
    "    print(f\"Status code: {response.status_code}\")\n",
    "    print(f\"Response: {response.text}\")"
   ]
  },
  {
   "cell_type": "code",
   "execution_count": null,
   "metadata": {},
   "outputs": [],
   "source": []
  },
  {
   "cell_type": "code",
   "execution_count": null,
   "metadata": {},
   "outputs": [],
   "source": []
  },
  {
   "cell_type": "code",
   "execution_count": null,
   "metadata": {},
   "outputs": [],
   "source": []
  },
  {
   "cell_type": "code",
   "execution_count": null,
   "metadata": {},
   "outputs": [],
   "source": []
  },
  {
   "cell_type": "code",
   "execution_count": null,
   "metadata": {},
   "outputs": [],
   "source": []
  },
  {
   "cell_type": "code",
   "execution_count": null,
   "metadata": {},
   "outputs": [],
   "source": []
  },
  {
   "cell_type": "code",
   "execution_count": null,
   "metadata": {},
   "outputs": [],
   "source": []
  }
 ],
 "metadata": {
  "kernelspec": {
   "display_name": "Python 3",
   "language": "python",
   "name": "python3"
  },
  "language_info": {
   "codemirror_mode": {
    "name": "ipython",
    "version": 3
   },
   "file_extension": ".py",
   "mimetype": "text/x-python",
   "name": "python",
   "nbconvert_exporter": "python",
   "pygments_lexer": "ipython3",
   "version": "3.10.8"
  }
 },
 "nbformat": 4,
 "nbformat_minor": 2
}
